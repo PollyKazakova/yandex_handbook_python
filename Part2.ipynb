{
 "cells": [
  {
   "cell_type": "markdown",
   "id": "fd299c66",
   "metadata": {},
   "source": [
    "### Условный оператор"
   ]
  },
  {
   "cell_type": "markdown",
   "id": "ea1da696",
   "metadata": {},
   "source": [
    "#### A. Просто здравствуй, просто как дела\n",
    "Умение вести диалог — важный навык для воспитанного человека.\n",
    "\n",
    "Напишите диалоговую программу, которая сначала познакомится с пользователем, а затем поинтересуется его настроением.\n",
    "\n",
    "Формат ввода:\n",
    "В первой строке записано имя пользователя.\n",
    "Во второй — ответ на вопрос: «хорошо» или «плохо».\n",
    "\n",
    "Формат вывода:\n",
    "В первой строке должен быть вопрос «Как Вас зовут?»\n",
    "Во второй строке — «Здравствуйте, %username%!»\n",
    "В третьей строке — вопрос «Как дела?»\n",
    "В четвёртой строке реакция на ответ пользователя:\n",
    "\n",
    "если пользователь ответил «хорошо», следует вывести сообщение «Я за вас рада!»;\n",
    "если пользователь ответил «плохо», следует вывести сообщение «Всё наладится!»."
   ]
  },
  {
   "cell_type": "code",
   "execution_count": 10,
   "id": "433aff33",
   "metadata": {},
   "outputs": [
    {
     "name": "stdout",
     "output_type": "stream",
     "text": [
      "Аня\n",
      "хорошо\n",
      "Как Вас зовут?\n",
      "Здравствуйте, Аня!\n",
      "Как дела?\n",
      "Я за вас рада!\n"
     ]
    }
   ],
   "source": [
    "name = input()\n",
    "reply = input()\n",
    "\n",
    "print('Как Вас зовут?')\n",
    "print(f'Здравствуйте, {name}!')\n",
    "print('Как дела?')\n",
    "if reply == 'хорошо':\n",
    "    print('Я за вас рада!')\n",
    "else:\n",
    "    print('Всё наладится!')"
   ]
  },
  {
   "cell_type": "markdown",
   "id": "96778187",
   "metadata": {},
   "source": [
    "#### B. Кто быстрее?\n",
    "В главной велогонке года участвует более тысячи гонщиков. Им предстоит пройти трассу длинной 43872м. Самая сложная и ответственная задача — определение победителя.\n",
    "\n",
    "Нам известны средние скорости двух фаворитов — Пети и Васи. Помогите выяснить, кто из них пришёл к финишу первым.\n",
    "\n",
    "Формат ввода:\n",
    "В первой строке записана средняя скорость Пети.\n",
    "Во второй — Васи.\n",
    "\n",
    "Формат вывода:\n",
    "Имя победителя гонки.\n",
    "\n",
    "Примечание:\n",
    "Гарантируется, что победителем стал только один."
   ]
  },
  {
   "cell_type": "code",
   "execution_count": 11,
   "id": "97ceb1f5",
   "metadata": {},
   "outputs": [
    {
     "name": "stdout",
     "output_type": "stream",
     "text": [
      "12\n",
      "14\n",
      "Вася\n"
     ]
    }
   ],
   "source": [
    "speed1 = int(input())\n",
    "speed2 = int(input())\n",
    "if speed1 > speed2:\n",
    "    print('Петя')\n",
    "else:\n",
    "    print('Вася')"
   ]
  },
  {
   "cell_type": "markdown",
   "id": "ea39f96b",
   "metadata": {},
   "source": [
    "#### C. Кто быстрее на этот раз?\n",
    "Вновь велогонщики собрались узнать, кто из них быстрее. Им предстоит пройти трассу длиной 43872м, и нам нужно вновь определить победителя.\n",
    "\n",
    "На этот раз нам известны средние скорости трёх фаворитов — Пети, Васи и Толи. Кто из них пришёл к финишу первым?\n",
    "\n",
    "Формат ввода:\n",
    "В первой строке записана средняя скорость Пети.\n",
    "Во второй — Васи.\n",
    "В третьей — Толи.\n",
    "\n",
    "Формат вывода:\n",
    "Имя победителя гонки.\n",
    "\n",
    "Примечание:\n",
    "Гарантируется, что победителем стал только один."
   ]
  },
  {
   "cell_type": "code",
   "execution_count": 12,
   "id": "e406b6d3",
   "metadata": {},
   "outputs": [
    {
     "name": "stdout",
     "output_type": "stream",
     "text": [
      "15\n",
      "20\n",
      "14\n",
      "Вася\n"
     ]
    }
   ],
   "source": [
    "speed1 = int(input())\n",
    "speed2 = int(input())\n",
    "speed3 = int(input())\n",
    "\n",
    "if speed1 > speed2 and speed1 > speed3:\n",
    "    print('Петя')\n",
    "elif speed2 > speed1 and speed2 > speed3:\n",
    "    print('Вася')\n",
    "else:\n",
    "    print('Толя')"
   ]
  },
  {
   "cell_type": "markdown",
   "id": "ead879d5",
   "metadata": {},
   "source": [
    "#### D. Список победителей\n",
    "Длина трассы — 43872м, а зрители хотят узнать имя победителя.\n",
    "\n",
    "Нам известны средние скорости трёх фаворитов – Пети, Васи и Толи. Помогите подвести итоги гонки.\n",
    "\n",
    "Формат ввода:\n",
    "В первой строке записана средняя скорость Пети.\n",
    "Во второй — Васи.\n",
    "В третьей — Толи.\n",
    "\n",
    "Формат вывода:\n",
    "Имена победителей в порядке занятых мест."
   ]
  },
  {
   "cell_type": "code",
   "execution_count": 1,
   "id": "741f6596",
   "metadata": {},
   "outputs": [
    {
     "name": "stdout",
     "output_type": "stream",
     "text": [
      "10\n",
      "5\n",
      "7\n",
      "1. Петя\n",
      "2. Толя\n",
      "3. Вася\n"
     ]
    }
   ],
   "source": [
    "speed1 = int(input())\n",
    "speed2 = int(input())\n",
    "speed3 = int(input())\n",
    "\n",
    "if speed1 > speed2 and speed1 > speed3:\n",
    "    print('1. Петя')\n",
    "    if speed2 > speed3:\n",
    "        print('2. Вася', '3. Толя', sep='\\n')\n",
    "    else:\n",
    "        print('2. Толя', '3. Вася', sep='\\n')\n",
    "elif speed2 > speed1 and speed2 > speed3:\n",
    "    print('1. Вася')\n",
    "    if speed1 > speed3:\n",
    "        print('2. Петя', '3. Толя', sep='\\n')\n",
    "    else:\n",
    "        print('2. Толя', '3. Петя', sep='\\n')\n",
    "else:\n",
    "    print('1. Толя')\n",
    "    if speed1 > speed2:\n",
    "        print('2. Петя', '3. Вася', sep='\\n')\n",
    "    else:\n",
    "        print('2. Вася', '3. Петя', sep='\\n')"
   ]
  },
  {
   "cell_type": "markdown",
   "id": "7ab81031",
   "metadata": {},
   "source": [
    "#### E. Яблоки\n",
    "У Пети было 7 яблок, а у Васи 6.\n",
    "\n",
    "Затем Петя отдал 3 яблока Васе, а у Толи взял 2 яблока.\n",
    "\n",
    "Вася попросил у Толи 5 яблок, но он отдал Гене 2.\n",
    "\n",
    "Затем Дима дал Пете N яблок, а Васе M.\n",
    "\n",
    "Так у кого в итоге яблок больше — у Пети или Васи?\n",
    "\n",
    "Формат ввода:\n",
    "В первой строке записано натуральное число N.\n",
    "Во второй — M.\n",
    "\n",
    "Формат вывода:\n",
    "Имя ребёнка, у которого больше яблок."
   ]
  },
  {
   "cell_type": "code",
   "execution_count": 2,
   "id": "3d69d6cf",
   "metadata": {},
   "outputs": [
    {
     "name": "stdout",
     "output_type": "stream",
     "text": [
      "3\n",
      "5\n",
      "Вася\n"
     ]
    }
   ],
   "source": [
    "n = int(input())\n",
    "m = int(input())\n",
    "\n",
    "if (n + 6) > (9 + m):\n",
    "    print('Петя')\n",
    "else:\n",
    "    print('Вася')"
   ]
  },
  {
   "cell_type": "markdown",
   "id": "65ecaf16",
   "metadata": {},
   "source": [
    "#### F. Сила прокрастинации\n",
    "Вася любит полениться. Особенно ему нравится, когда в году появляется такой лишний денёк, которого обычно не бывает. Напишите программу, которая поможет Васе определить, удастся ли ему побездельничать в определённом году или нет.\n",
    "\n",
    "Формат ввода:\n",
    "Одно число — год.\n",
    "\n",
    "Формат вывода:\n",
    "Одно слово «YES» (удастся) или «NO» (не удастся)."
   ]
  },
  {
   "cell_type": "code",
   "execution_count": 3,
   "id": "84228558",
   "metadata": {},
   "outputs": [
    {
     "name": "stdout",
     "output_type": "stream",
     "text": [
      "2022\n",
      "NO\n"
     ]
    }
   ],
   "source": [
    "year = int(input())\n",
    "if year % 4 != 0:\n",
    "    print('NO')\n",
    "elif year % 100 == 0:\n",
    "    if year % 400 == 0:\n",
    "        print('YES')\n",
    "    else:\n",
    "        print('NO')\n",
    "else:\n",
    "    print('YES')"
   ]
  },
  {
   "cell_type": "markdown",
   "id": "3aad96bf",
   "metadata": {},
   "source": [
    "#### G. А роза упала на лапу Азора\n",
    "Существуют такое интересное понятие как палиндром — число, слово, предложение и так далее, которое и слева-направо, и справа-налево читается одинаково.\n",
    "\n",
    "Напишите программу, которая проверяет, является ли число палиндромом.\n",
    "\n",
    "Формат ввода:\n",
    "Одно четырёхзначное число\n",
    "\n",
    "Формат вывода:\n",
    "YES если число является палиндромом, иначе — NO."
   ]
  },
  {
   "cell_type": "code",
   "execution_count": 4,
   "id": "e0870dec",
   "metadata": {},
   "outputs": [
    {
     "name": "stdout",
     "output_type": "stream",
     "text": [
      "1234\n",
      "NO\n"
     ]
    }
   ],
   "source": [
    "a = int(input())\n",
    "a1 = a // 1000\n",
    "a2 = a // 100 % 10\n",
    "a3 = a // 10 % 10\n",
    "a4 = a % 10\n",
    "if a1 == a4 and a2 == a3:\n",
    "    print('YES')\n",
    "else:\n",
    "    print('NO')"
   ]
  },
  {
   "cell_type": "markdown",
   "id": "5cfb1a44",
   "metadata": {},
   "source": [
    "#### H. Зайка — 1\n",
    "В долгой дороге дети могут капризничать, поэтому родители их развлекают с помощью игр. Одна из них — поиск различных зверушек в придорожной растительности.\n",
    "\n",
    "Давайте немного поиграем и выясним, не спрятался ли зайка во введённом предложении.\n",
    "\n",
    "Формат ввода:\n",
    "Строка описывающая придорожную местность.\n",
    "\n",
    "Формат вывода:\n",
    "YES — если в этой местности есть зайка, иначе — NO."
   ]
  },
  {
   "cell_type": "code",
   "execution_count": 5,
   "id": "4dcdebd3",
   "metadata": {},
   "outputs": [
    {
     "name": "stdout",
     "output_type": "stream",
     "text": [
      "сосна сосна сосна елочка грибочки медведь\n",
      "NO\n"
     ]
    }
   ],
   "source": [
    "string = input()\n",
    "if 'зайка' in string:\n",
    "    print('YES')\n",
    "else:\n",
    "    print('NO')"
   ]
  },
  {
   "cell_type": "markdown",
   "id": "e0fffc70",
   "metadata": {},
   "source": [
    "#### I. Первому игроку приготовиться\n",
    "Во многих играх порядок определяется броском кубика или монетки, — а в нашей первым ходит тот, чьё имя лексикографически меньше.\n",
    "\n",
    "Определите, кто из игроков будет ходить первым.\n",
    "\n",
    "Формат ввода:\n",
    "Три имени игроков, каждое из которых записано с новой строки.\n",
    "\n",
    "Формат вывода:\n",
    "Имя игрока, который будет ходить первым."
   ]
  },
  {
   "cell_type": "code",
   "execution_count": 6,
   "id": "da251e5e",
   "metadata": {},
   "outputs": [
    {
     "name": "stdout",
     "output_type": "stream",
     "text": [
      "Вова\n",
      "Аня\n",
      "Боря\n",
      "Аня\n"
     ]
    }
   ],
   "source": [
    "name1 = input()\n",
    "name2 = input()\n",
    "name3 = input()\n",
    "print(min(name1, name2, name3))"
   ]
  },
  {
   "cell_type": "markdown",
   "id": "25f49afd",
   "metadata": {},
   "source": [
    "#### J. Лучшая защита — шифрование\n",
    "Коля испугался, что Аня подсмотрит все его пароли в блокноте, и решил их зашифровать. Для этого он берёт изначальный пароль — трёхзначное число — и по нему строит новое число по следующим правилам:\n",
    "\n",
    "находится сумма цифр, стоящих в двух младших разрядах (десятки и единицы);\n",
    "находится сумма цифр, стоящих в двух старших разрядах (сотни и десятки)\n",
    "Эти две суммы, записанные друг за другом, в порядке не возрастания, формируют новое число.\n",
    "Помогите реализовать алгоритм шифрования.\n",
    "\n",
    "Формат ввода:\n",
    "Одно трёхзначное число\n",
    "\n",
    "Формат вывода:\n",
    "Результат шифрования"
   ]
  },
  {
   "cell_type": "code",
   "execution_count": 7,
   "id": "6a300157",
   "metadata": {},
   "outputs": [
    {
     "name": "stdout",
     "output_type": "stream",
     "text": [
      "123\n",
      "53\n"
     ]
    }
   ],
   "source": [
    "a = int(input())\n",
    "sum1 = a // 10 % 10 + a % 10\n",
    "sum2 = a // 100 + a // 10 % 10\n",
    "if sum1 > sum2:\n",
    "    print(str(sum1) + str(sum2))\n",
    "else: \n",
    "    print(str(sum2) + str(sum1))"
   ]
  },
  {
   "cell_type": "markdown",
   "id": "27f6bf00",
   "metadata": {},
   "source": [
    "#### K. Красота спасёт мир\n",
    "Одно из древних поверий гласит, что трёхзначное число красиво, если сумма его минимальной и максимальной цифр равна оставшейся цифре умноженной на 2.\n",
    "\n",
    "Напишите систему определяющую красоту числа.\n",
    "\n",
    "Формат ввода:\n",
    "Одно трёхзначное число\n",
    "\n",
    "Формат вывода:\n",
    "YES — если число красивое, иначе — NO"
   ]
  },
  {
   "cell_type": "code",
   "execution_count": 8,
   "id": "0dc3cd47",
   "metadata": {},
   "outputs": [
    {
     "name": "stdout",
     "output_type": "stream",
     "text": [
      "123\n",
      "YES\n"
     ]
    }
   ],
   "source": [
    "a = int(input())\n",
    "first = a // 100\n",
    "second = a // 10 % 10\n",
    "third = a % 10\n",
    "min_num = min(first, second, third)\n",
    "max_num = max(first, second, third)\n",
    "middle_num = first + second + third - min_num - max_num\n",
    "if min_num + max_num == middle_num * 2:\n",
    "    print('YES')\n",
    "else:\n",
    "    print('NO')"
   ]
  },
  {
   "cell_type": "markdown",
   "id": "193b4524",
   "metadata": {},
   "source": [
    "#### L. Музыкальный инструмент\n",
    "Есть много музыкальных инструментов, но Вася обожает треугольник.\n",
    "\n",
    "У него завалялось немного алюминиевых трубочек разной длины, и он задаётся вопросом, а можно ли из них сделать любимый музыкальный инструмент.\n",
    "\n",
    "Формат ввода:\n",
    "Три числа — длины трубочек, каждое с новой строки.\n",
    "\n",
    "Формат вывода:\n",
    "YES — если Васе удастся создать музыкальный треугольник, иначе — NO\n",
    "\n",
    "Примечание:\n",
    "Обратите внимание, что в треугольнике любая сторона меньше суммы двух других."
   ]
  },
  {
   "cell_type": "code",
   "execution_count": 9,
   "id": "7fe32aa8",
   "metadata": {},
   "outputs": [
    {
     "name": "stdout",
     "output_type": "stream",
     "text": [
      "3\n",
      "3\n",
      "3\n",
      "YES\n"
     ]
    }
   ],
   "source": [
    "a, b, c = int(input()), int(input()), int(input())\n",
    "if a < b + c and b < a + c and c < a + b:\n",
    "    print('YES')\n",
    "else:\n",
    "    print('NO')"
   ]
  },
  {
   "cell_type": "markdown",
   "id": "177228e9",
   "metadata": {},
   "source": [
    "#### M. Властелин Чисел: Братство общей цифры\n",
    "Во времена магии и драконов существовало мнение, что числа обладают великой силой, способной изменить мир.\n",
    "\n",
    "Всё началось с написания великих чисел. Три числа были переданы эльфам. Семь — отданы повелителям гномов. А девять... были переданы человеческому роду.\n",
    "\n",
    "Но все они оказались обмануты, потому что существовало ещё одно число. В стране Нумия на бумаге из тёмного папируса властелин Зерон тайно написал Единую Цифру, подчиняющую себе все великие числа.\n",
    "\n",
    "Давайте выясним, что это за цифра.\n",
    "\n",
    "Формат ввода:\n",
    "В первой строке записано двузначное число одного из эльфов.\n",
    "Во второй строке — Гномов.\n",
    "В третьей — Людей.\n",
    "\n",
    "Формат вывода:\n",
    "Одна цифра — общая у всех трёх чисел в одинаковой позиции"
   ]
  },
  {
   "cell_type": "code",
   "execution_count": 10,
   "id": "b6323929",
   "metadata": {},
   "outputs": [
    {
     "name": "stdout",
     "output_type": "stream",
     "text": [
      "12\n",
      "13\n",
      "14\n",
      "1\n"
     ]
    }
   ],
   "source": [
    "a = input()\n",
    "b = input()\n",
    "c = input()\n",
    "\n",
    "if a[0] == b[0] and b[0] == c[0]:\n",
    "    print(a[0])\n",
    "else:\n",
    "    print(a[1])"
   ]
  },
  {
   "cell_type": "markdown",
   "id": "effb9657",
   "metadata": {},
   "source": [
    "#### N. Властелин Чисел: Две Башни\n",
    "Во времена, когда люди верили в великую силу чисел, оказалось, что волшебник Пифуман предал все народы и стал помогать Зерону.\n",
    "\n",
    "Чтобы посетить башни обоих злодеев одновременно, нам следует разделить магию числа, которое защищало нас в дороге.\n",
    "\n",
    "Чтобы поделить трёхзначное число, нам нужно составить из него минимально и максимально возможные двухзначные числа.\n",
    "\n",
    "Формат ввода:\n",
    "Одно трёхзначное число.\n",
    "\n",
    "Формат вывода:\n",
    "Два защитных числа для каждого отряда, записанные через пробел."
   ]
  },
  {
   "cell_type": "code",
   "execution_count": 11,
   "id": "7410d87e",
   "metadata": {},
   "outputs": [
    {
     "name": "stdout",
     "output_type": "stream",
     "text": [
      "103\n",
      "10 31\n"
     ]
    }
   ],
   "source": [
    "a = input()\n",
    "a1 = int(a[0])\n",
    "a2 = int(a[1])\n",
    "a3 = int(a[2])\n",
    "min_num = min(a1, a2, a3)\n",
    "max_num = max(a1, a2, a3)\n",
    "middle_num = a1 + a2 + a3 - min_num - max_num \n",
    "if min_num == 0:\n",
    "    print(str(middle_num) + str(min_num), str(max_num) + str(middle_num))\n",
    "else:\n",
    "    print(str(min_num) + str(middle_num), str(max_num) + str(middle_num))"
   ]
  },
  {
   "cell_type": "markdown",
   "id": "9922e88d",
   "metadata": {},
   "source": [
    "#### O. Властелин Чисел: Возвращение Цезаря\n",
    "До победы над злом остался один шаг — разрушить логово Зерона.\n",
    "\n",
    "Для этого нужно создать трёхзначное магическое число, которое будет сильнее двух двухзначных защитных чисел Зерона.\n",
    "\n",
    "Самый простой способ создать сильное число:\n",
    "\n",
    "первой взять максимальную цифру из всех защитных чисел;\n",
    "последней — минимальную;\n",
    "в середину поставить сумму оставшихся без учёта переноса разряда.\n",
    "Помогите одолеть зло.\n",
    "\n",
    "Формат ввода:\n",
    "В двух строках записаны защитные числа Зерона.\n",
    "\n",
    "Формат вывода:\n",
    "Одно трёхзначное число, которое приведёт к победе."
   ]
  },
  {
   "cell_type": "code",
   "execution_count": 12,
   "id": "7de90a85",
   "metadata": {},
   "outputs": [
    {
     "name": "stdout",
     "output_type": "stream",
     "text": [
      "31\n",
      "11\n",
      "321\n"
     ]
    }
   ],
   "source": [
    "a = input()\n",
    "b = input()\n",
    "a1 = int(a[0])\n",
    "a2 = int(a[1])\n",
    "b1 = int(b[0])\n",
    "b2 = int(b[1])\n",
    "min_num = min(a1, a2, b1, b2)\n",
    "max_num = max(a1, a2, b1, b2)\n",
    "middle_num = (a1 + a2 + b1 + b2 - min_num - max_num) % 10\n",
    "print(str(max_num) + str(middle_num) + str(min_num))"
   ]
  },
  {
   "attachments": {
    "image.png": {
     "image/png": "[encoded data removed]"
    }
   },
   "cell_type": "markdown",
   "id": "7f2529b0",
   "metadata": {},
   "source": [
    "#### P. Легенды велогонок возвращаются: кто быстрее?\n",
    "В новом сезоне за первенство в велогонках вновь борются лучшие из лучших. Протяжённость заключительной трассы — 43872м, и все хотят знать, кто получит золотую медаль.\n",
    "\n",
    "Нам известны средние скорости трёх претендентов на победу – Пети, Васи и Толи. Кто из них победит?\n",
    "\n",
    "Формат ввода:\n",
    "В первой строке записана средняя скорость Пети.\n",
    "Во второй — Васи.\n",
    "В третьей — Толи.\n",
    "\n",
    "Формат вывода:\n",
    "Красивый пьедестал (ширина ступеней 8 символов).\n",
    "\n",
    "Примечание\n",
    "В данный момент визуализация тестов работает некорректно.\n",
    "Ответ на первый тест:\n",
    "![image.png](attachment:image.png)"
   ]
  },
  {
   "cell_type": "code",
   "execution_count": 13,
   "id": "e64578b6",
   "metadata": {},
   "outputs": [
    {
     "name": "stdout",
     "output_type": "stream",
     "text": [
      "10\n",
      "5\n",
      "7\n",
      "          Петя          \n",
      "  Толя  \n",
      "                  Вася\n",
      "   II      I      III\n"
     ]
    }
   ],
   "source": [
    "vpetya = int(input()) \n",
    "vvasya = int(input()) \n",
    "vtolya = int(input()) \n",
    "p = 'Петя'\n",
    "v = 'Вася'\n",
    "t = 'Толя'\n",
    "m = ' '\n",
    "if (vpetya > vvasya) and (vpetya > vtolya):\n",
    "    if (vvasya > vtolya):\n",
    "        print(f'{m * 10}{p}{m * 10}\\n{m * 2}{v}{m * 2}\\n{m * 18}{t}')\n",
    "    else:\n",
    "        print(f'{m * 10}{p}{m * 10}\\n{m * 2}{t}{m * 2}\\n{m * 18}{v}')\n",
    "elif (vvasya > vpetya) and (vvasya > vtolya):\n",
    "    if (vpetya > vtolya):\n",
    "        print(f'{m * 10}{v}{m * 10}\\n{m * 2}{p}{m * 2}\\n{m * 18}{t}')\n",
    "    else:\n",
    "        print(f'{m * 10}{v}{m * 10}\\n{m * 2}{t}{m * 2}\\n{m * 18}{p}')\n",
    "else:\n",
    "    if (vpetya > vvasya):\n",
    "        print(f'{m * 10}{t}{m * 10}\\n{m * 2}{p}{m * 2}\\n{m * 18}{v}')\n",
    "    else:\n",
    "        print(f'{m * 10}{t}{m * 10}\\n{m * 2}{v}{m * 2}\\n{m * 18}{p}')\n",
    "print(f'{m * 3}II{m * 6}I{m * 6}III')"
   ]
  },
  {
   "cell_type": "markdown",
   "id": "d6c1a93c",
   "metadata": {},
   "source": [
    "#### Q. Корень зла\n",
    "Не все любят математику, а кто-то даже считает её настоящим злом во плоти, хотя от неё никуда не деться. К примеру, Python изначально разрабатывался только для решения математических задач, поэтому давайте используем его, чтобы найти корни квадратного уравнения.\n",
    "\n",
    "Формат ввода:\n",
    "Вводится 3 вещественных числа \n",
    "a, \n",
    "b, \n",
    "c — коэффициенты уравнения вида\n",
    "\n",
    "Формат вывода:\n",
    "Если у уравнения нет решений — следует вывести «No solution».\n",
    "Если корней конечное число — их нужно вывести через пробел в порядке возрастания с точностью до сотых.\n",
    "Если корней неограниченное число — следует вывести «Infinite solutions».\n",
    "\n",
    "Примечание:\n",
    "Обратите внимание, что ограничения на значения коэффициентов отсутствуют."
   ]
  },
  {
   "cell_type": "code",
   "execution_count": 14,
   "id": "bf92c206",
   "metadata": {},
   "outputs": [
    {
     "name": "stdout",
     "output_type": "stream",
     "text": [
      "1\n",
      "-2\n",
      "1\n",
      "1.00\n"
     ]
    }
   ],
   "source": [
    "a = float(input())\n",
    "b = float(input())\n",
    "c = float(input())\n",
    "if a == 0 and b == 0 and c == 0:\n",
    "    print(\"Infinite solutions\")\n",
    "elif a == 0 and b != 0 and c != 0:\n",
    "    x1 = -(c / b)   \n",
    "    print(f'{x1:.2f}')\n",
    "elif a == 0 and b == 0 and c != 0:\n",
    "    print(\"No solution\")  # no sol\n",
    "elif a == 0 and b != 0 and c == 0:\n",
    "    x1 = 0\n",
    "    print(f'{x1:.2f}')\n",
    "else:\n",
    "    disc = (b ** 2) - (4 * a * c)  # discriminant\n",
    "    if disc == 0:\n",
    "        x1 = (-b) / (2 * a)\n",
    "        print(f'{x1:.2f}')\n",
    "    elif disc > 0:\n",
    "        x1 = (-b - (disc ** 0.5)) / (2 * a)\n",
    "        x2 = (-b + (disc ** 0.5)) / (2 * a)\n",
    "        print(f'{min(x1, x2):.2f} {max(x1, x2):.2f}')\n",
    "    elif disc < 0:\n",
    "        print(\"No solution\")"
   ]
  },
  {
   "cell_type": "markdown",
   "id": "6f828264",
   "metadata": {},
   "source": [
    "#### R. Территория зла\n",
    "В давние времена считалось, что если какая-то местность является треугольником, то в ней заключено страшное зло.\n",
    "\n",
    "При этом люди оценивали риск встретить зло по форме этого треугольника:\n",
    "\n",
    "в остроугольном треугольнике вероятность встретить зло крайне мала;\n",
    "в тупоугольном — велика;\n",
    "в прямоугольном — 100%.\n",
    "Напишите программу, которая по длине сторон треугольной местности, определяет вероятность встретить зло.\n",
    "\n",
    "Формат ввода:\n",
    "Три числа — длины сторон треугольной местности.\n",
    "\n",
    "Формат вывода:\n",
    "Вероятность встретить зло согласно поверью:\n",
    "- крайне мала;  \n",
    "- велика;  \n",
    "- 100%."
   ]
  },
  {
   "cell_type": "code",
   "execution_count": 15,
   "id": "a68142f4",
   "metadata": {},
   "outputs": [
    {
     "name": "stdout",
     "output_type": "stream",
     "text": [
      "3\n",
      "5\n",
      "4\n",
      "100%\n"
     ]
    }
   ],
   "source": [
    "a = int(input())\n",
    "b = int(input())\n",
    "c = int(input())\n",
    "max_num = max(a, b, c)\n",
    "min_num = min(a, b, c)\n",
    "middle_num = a + b + c - max_num - min_num\n",
    "if max_num ** 2 > min_num ** 2 + middle_num ** 2:\n",
    "    print('велика')\n",
    "elif max_num ** 2 == min_num ** 2 + middle_num ** 2:\n",
    "    print('100%')\n",
    "else:\n",
    "    print('крайне мала')"
   ]
  },
  {
   "attachments": {
    "image.png": {
     "image/png": "[encoded data removed]"
    }
   },
   "cell_type": "markdown",
   "id": "5cec263f",
   "metadata": {},
   "source": [
    "#### S. Автоматизация безопасности\n",
    "Группа исследователей собирается высадиться на остров невероятно ровной формы, но разведка при помощи спутника выяснила, что на острове есть зона зыбучих песков.\n",
    "\n",
    "Для повышения безопасности экспедиции было решено разработать систему оповещения, которая предупредит исследователей об опасности. А для снижения расходов на производство было решено заказать программное обеспечение.\n",
    "![image.png](attachment:image.png)  \n",
    "Напишите программу, которая по координатам исследователя, будет сообщать о безопасности в этой точке.\n",
    "\n",
    "Формат ввода:\n",
    "Два рациональных числа — координаты исследователя.\n",
    "\n",
    "Формат вывода:\n",
    "Одно из сообщений:\n",
    "\n",
    "Опасность! Покиньте зону как можно скорее!\n",
    "Зона безопасна. Продолжайте работу."
   ]
  },
  {
   "cell_type": "code",
   "execution_count": 16,
   "id": "962dfa3a",
   "metadata": {},
   "outputs": [
    {
     "name": "stdout",
     "output_type": "stream",
     "text": [
      "-5.2\n",
      "3.4\n",
      "Зона безопасна. Продолжайте работу.\n"
     ]
    }
   ],
   "source": [
    "x = float(input())\n",
    "y = float(input())\n",
    "c = (x ** 2 + y ** 2) ** 0.5  \n",
    "y_para = (0.25 * (x ** 2)) + (0.5 * x) + 8.75\n",
    "if x >= 0 and y >= 0: \n",
    "    if c <= 5: \n",
    "        print(\"Опасность! Покиньте зону как можно скорее!\")\n",
    "    elif c > 10:  \n",
    "        print(\"Вы вышли в море и рискуете быть съеденным акулой!\")\n",
    "    else:\n",
    "        print(\"Зона безопасна. Продолжайте работу.\")\n",
    "elif x <= 0 and y >= 0:  \n",
    "    if y <= 5 and y <= ((5 * x) + 35) / 3:\n",
    "        print(\"Опасность! Покиньте зону как можно скорее!\")\n",
    "    elif c > 10: \n",
    "        print(\"Вы вышли в море и рискуете быть съеденным акулой!\")\n",
    "    else:\n",
    "        print(\"Зона безопасна. Продолжайте работу.\")\n",
    "elif (x >= 0 and y <= 0) or (x <= 0 and y <= 0):  \n",
    "    if y < y_para:\n",
    "        print(\"Опасность! Покиньте зону как можно скорее!\")\n",
    "    elif c > 10:  \n",
    "        print(\"Вы вышли в море и рискуете быть съеденным акулой!\")\n",
    "    else:\n",
    "        print(\"Зона безопасна. Продолжайте работу.\")\n",
    "elif x == 0 and y == 0:\n",
    "    print(\"Опасность! Покиньте зону как можно скорее!\")"
   ]
  },
  {
   "cell_type": "markdown",
   "id": "bcd21544",
   "metadata": {},
   "source": [
    "#### T. Зайка — 2\n",
    "По пути домой родители вновь решили сыграть с детьми в поиск зверушек.\n",
    "\n",
    "Формат ввода:\n",
    "Три строки описывающих придорожную местность.\n",
    "\n",
    "Формат вывода:\n",
    "Строка в которой есть зайка, а затем её длина.\n",
    "Если таких строк несколько, выбрать ту, что меньше всех лексикографически."
   ]
  },
  {
   "cell_type": "code",
   "execution_count": 17,
   "id": "6781fd90",
   "metadata": {},
   "outputs": [
    {
     "name": "stdout",
     "output_type": "stream",
     "text": [
      "зайка березка\n",
      "березка зайка\n",
      "березка елочка березка\n",
      "березка зайка 13\n"
     ]
    }
   ],
   "source": [
    "a = input()\n",
    "b = input()\n",
    "c = input()\n",
    "res = []\n",
    "for i in (a, b, c):\n",
    "    if 'зайка' in i:\n",
    "        res.append(i)\n",
    "print(min(res), len(min(res)))"
   ]
  }
 ],
 "metadata": {
  "kernelspec": {
   "display_name": "Python 3 (ipykernel)",
   "language": "python",
   "name": "python3"
  },
  "language_info": {
   "codemirror_mode": {
    "name": "ipython",
    "version": 3
   },
   "file_extension": ".py",
   "mimetype": "text/x-python",
   "name": "python",
   "nbconvert_exporter": "python",
   "pygments_lexer": "ipython3",
   "version": "3.9.5"
  }
 },
 "nbformat": 4,
 "nbformat_minor": 5
}
