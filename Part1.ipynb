{
 "cells": [
  {
   "cell_type": "markdown",
   "id": "67c15fc8",
   "metadata": {},
   "source": [
    "### Ввод и вывод данных. Операции с числами, строками. Форматирование"
   ]
  },
  {
   "cell_type": "markdown",
   "id": "22f86659",
   "metadata": {},
   "source": [
    "#### A. Привет, Яндекс!\n",
    "Когда мы приходим на встречу, то первым делом здороваемся. Давайте тоже поприветствуем Яндекс.\n",
    "\n",
    "Формат вывода:\n",
    "Одна строка: «Привет, Яндекс!» "
   ]
  },
  {
   "cell_type": "code",
   "execution_count": 1,
   "id": "d70fcff5",
   "metadata": {},
   "outputs": [
    {
     "name": "stdout",
     "output_type": "stream",
     "text": [
      "Привет, Яндекс!\n"
     ]
    }
   ],
   "source": [
    "print('Привет, Яндекс!')"
   ]
  },
  {
   "cell_type": "markdown",
   "id": "49ec3ea9",
   "metadata": {},
   "source": [
    "#### B. Привет, всем!\n",
    "Но вообще, хорошо бы узнать имя собеседника, а уже потом его приветствовать.\n",
    "\n",
    "Напишите диалоговую программу, которая сначала познакомится со своим пользователем, а затем поздоровается с ним.\n",
    "\n",
    "Формат ввода:\n",
    "Одна строка — имя пользователя программы.\n",
    "\n",
    "Формат вывода:\n",
    "В первой строке написан вопрос: «Как Вас зовут?» Во второй строке — приветствие пользователя: «Привет, %username%»."
   ]
  },
  {
   "cell_type": "code",
   "execution_count": 3,
   "id": "a27be0d2",
   "metadata": {},
   "outputs": [
    {
     "name": "stdout",
     "output_type": "stream",
     "text": [
      "Как Вас зовут? Mike\n",
      "Привет, Mike\n"
     ]
    }
   ],
   "source": [
    "name = input('Как Вас зовут? ')\n",
    "print(f'Привет, {name}')"
   ]
  },
  {
   "cell_type": "markdown",
   "id": "68e408bf",
   "metadata": {},
   "source": [
    "#### C. Излишняя автоматизация\n",
    "«Повторение — мать учения!» и «Если это можно автоматизировать — автоматизируй!»\n",
    "Этим принципам следуют многие программисты. Но что будет, если их объединить?\n",
    "\n",
    "Формат ввода:\n",
    "Одна строка — весьма полезная информация.\n",
    "\n",
    "Формат вывода:\n",
    "Трижды повторённая весьма полезная информация."
   ]
  },
  {
   "cell_type": "code",
   "execution_count": 10,
   "id": "4d25d2cf",
   "metadata": {},
   "outputs": [
    {
     "name": "stdout",
     "output_type": "stream",
     "text": [
      "2 + 2 = 4\n",
      "2 + 2 = 4\n",
      "2 + 2 = 4\n",
      "2 + 2 = 4\n"
     ]
    }
   ],
   "source": [
    "a = input()\n",
    "print(a, a, a, sep='\\n')"
   ]
  },
  {
   "cell_type": "markdown",
   "id": "beaaa602",
   "metadata": {},
   "source": [
    "#### D. Сдача\n",
    "Чаще всего автоматизация идёт на пользу.\n",
    "Одна из задач, в которой лучше исключить человеческий фактор, — подсчёт сдачи.\n",
    "Определите, какую сдачу нужно выдать тому, кто купил 2,5кг черешни по цене 38 руб/кг.\n",
    "\n",
    "Формат ввода:\n",
    "Одно натуральное число - номинал купюры пользователя (\n",
    "≥\n",
    "100\n",
    "≥100).\n",
    "\n",
    "Формат вывода:\n",
    "Одно натуральное число — размер сдачи."
   ]
  },
  {
   "cell_type": "code",
   "execution_count": 7,
   "id": "897908b5",
   "metadata": {},
   "outputs": [
    {
     "name": "stdout",
     "output_type": "stream",
     "text": [
      "99\n",
      "4\n"
     ]
    }
   ],
   "source": [
    "num = int(input())\n",
    "print(int(num - (2.5 * 38)))"
   ]
  },
  {
   "cell_type": "markdown",
   "id": "3aa24293",
   "metadata": {},
   "source": [
    "#### E. Магазин\n",
    "Кроме черешни в магазине продаётся множество других товаров, которые продаются на развес.\n",
    "Давайте автоматизируем расчёт сдачи и для них!\n",
    "\n",
    "Формат ввода:\n",
    "Три натуральных числа:\n",
    "цена товара;\n",
    "вес товара;\n",
    "количество денег у пользователя.\n",
    "\n",
    "Формат вывода:\n",
    "Одно целое число — сдача, которую требуется отдать пользователю"
   ]
  },
  {
   "cell_type": "code",
   "execution_count": 11,
   "id": "676a5d8d",
   "metadata": {},
   "outputs": [
    {
     "name": "stdout",
     "output_type": "stream",
     "text": [
      "14\n",
      "5\n",
      "100\n",
      "30\n"
     ]
    }
   ],
   "source": [
    "price = int(input())\n",
    "weight = int(input())\n",
    "amount = int(input())\n",
    "print(int(amount - (weight * price)))"
   ]
  },
  {
   "cell_type": "markdown",
   "id": "9c80e932",
   "metadata": {},
   "source": [
    "#### F. Чек\n",
    "Сдачу посчитать, конечно, все могут, но красивый чек напечатать — не так просто.\n",
    "\n",
    "Формат ввода:\n",
    "название товара;\n",
    "цена товара;\n",
    "вес товара;\n",
    "количество денег у пользователя.\n",
    "\n",
    "Формат вывода:\n",
    "Чек\n",
    "<название товара> - <вес>кг - <цена>руб/кг\n",
    "Итого: <итоговая стоимость>руб\n",
    "Внесено: <количество денег от пользователя>руб\n",
    "Сдача: <сдача>руб"
   ]
  },
  {
   "cell_type": "code",
   "execution_count": 12,
   "id": "afcdc94b",
   "metadata": {},
   "outputs": [
    {
     "name": "stdout",
     "output_type": "stream",
     "text": [
      "3\n",
      "120\n",
      "4\n",
      "1000\n",
      "Чек\n",
      "3 - 4кг - 120руб/кг\n",
      "Итого: 480руб\n",
      "Внесено: 1000руб\n",
      "Сдача: 520руб\n"
     ]
    }
   ],
   "source": [
    "goods = input()\n",
    "price = int(input())\n",
    "weight = int(input())\n",
    "amount = int(input())\n",
    "print('Чек')\n",
    "print(f'{goods} - {weight}кг - {price}руб/кг')\n",
    "print(f'Итого: {int(price*weight)}руб')\n",
    "print(f'Внесено: {amount}руб')\n",
    "print(f'Сдача: {int(amount - price*weight)}руб')"
   ]
  },
  {
   "cell_type": "markdown",
   "id": "6584c568",
   "metadata": {},
   "source": [
    "#### G. Делу — время, потехе — час\n",
    "Давайте передохнём от автоматизации и сделаем что-то действительно интересное.\n",
    "\n",
    "Формат ввода:\n",
    "Одно натуральное число \n",
    "N\n",
    "\n",
    "Формат вывода:\n",
    "N строк с фразой: \"Купи слона!\""
   ]
  },
  {
   "cell_type": "code",
   "execution_count": 1,
   "id": "225dddd7",
   "metadata": {},
   "outputs": [
    {
     "name": "stdout",
     "output_type": "stream",
     "text": [
      "3\n",
      "Купи слона!\n",
      "Купи слона!\n",
      "Купи слона!\n"
     ]
    }
   ],
   "source": [
    "n = int(input())\n",
    "for i in range(n):\n",
    "    print('Купи слона!')"
   ]
  },
  {
   "cell_type": "markdown",
   "id": "dd38dc36",
   "metadata": {},
   "source": [
    "#### H. Наказание\n",
    "Наше развлечение не осталось незамеченным...\n",
    "И наказание нам выбрали соответствующее.\n",
    "\n",
    "Формат ввода:\n",
    "В первой строке записано одно натуральное число \n",
    "N\n",
    "Во второй строке записана часть наказания.\n",
    "\n",
    "Формат вывода:\n",
    "N строк вида: Я больше никогда не буду писать \"<часть наказания>\"!"
   ]
  },
  {
   "cell_type": "code",
   "execution_count": 2,
   "id": "ca9c0e85",
   "metadata": {},
   "outputs": [
    {
     "name": "stdout",
     "output_type": "stream",
     "text": [
      "3\n",
      "Hello World!\n",
      "Я больше никогда не буду писать \"Hello World!\"!\n",
      "Я больше никогда не буду писать \"Hello World!\"!\n",
      "Я больше никогда не буду писать \"Hello World!\"!\n"
     ]
    }
   ],
   "source": [
    "n = int(input())\n",
    "string = input()\n",
    "for i in range(n):\n",
    "    print(f'Я больше никогда не буду писать \"{string}\"!')"
   ]
  },
  {
   "cell_type": "markdown",
   "id": "8d350ec5",
   "metadata": {},
   "source": [
    "#### I. Деловая колбаса\n",
    "Настало время для действительно серьёзных задач...\n",
    "В детском саду 2 ребенка съедают 2 куска колбасы за 2 минуты. Сколько кусков колбасы за \n",
    "N минут съедят \n",
    "M детей?\n",
    "\n",
    "Формат ввода:\n",
    "В первой строке записано натуральное число \n",
    "≥\n",
    "1\n",
    "N≥1\n",
    "Во второй строке записано натуральное число \n",
    "\n",
    "≥\n",
    "1\n",
    "M≥1\n",
    "\n",
    "Формат вывода:\n",
    "Одно натуральное число — количество кусков колбасы, съеденных детьми\n",
    "\n",
    "Примечание:\n",
    "Гарантируется, что в результате вычислений будет получено натуральное число."
   ]
  },
  {
   "cell_type": "code",
   "execution_count": 3,
   "id": "42169292",
   "metadata": {},
   "outputs": [
    {
     "name": "stdout",
     "output_type": "stream",
     "text": [
      "60\n",
      "4\n",
      "120\n"
     ]
    }
   ],
   "source": [
    "minutes = int(input())\n",
    "childs = int(input())\n",
    "print(int(minutes / 2 * childs / 2 * 2))"
   ]
  },
  {
   "cell_type": "markdown",
   "id": "9e638dfd",
   "metadata": {},
   "source": [
    "#### J. Детский сад — штаны на лямках\n",
    "В продолжение темы детского сада давайте и там что-нибудь автоматизируем.\n",
    "За каждым ребёнком закреплён шкафчик и кровать. Номер шкафчика состоит из трёх цифр:\n",
    "\n",
    "номер группы в саду;\n",
    "номер кроватки закреплённой за ребёнком;\n",
    "порядковый номер ребёнка в списке группы.\n",
    "Воспитатель просит сделать программу, которая по имени ребенка и номеру его шкафчика формирует «красивую» карточку для личного дела.\n",
    "\n",
    "Формат ввода:\n",
    "В первой строке записано имя ребенка.\n",
    "Во второй строке записан номер шкафчика.\n",
    "\n",
    "Формат вывода:\n",
    "Карточка в виде:\n",
    "\n",
    "Группа №<номер группы>.  \n",
    "<номер ребёнка в списке>. <имя ребенка>.  \n",
    "Шкафчик: <номер шкафчика>.  \n",
    "Кроватка: <номер кроватки>."
   ]
  },
  {
   "cell_type": "code",
   "execution_count": 6,
   "id": "cb1e06f8",
   "metadata": {},
   "outputs": [
    {
     "name": "stdout",
     "output_type": "stream",
     "text": [
      "Ivan\n",
      "845\n",
      "Группа №8.\n",
      "5. Ivan.\n",
      "Шкафчик: 845.\n",
      "Кроватка: 4.\n"
     ]
    }
   ],
   "source": [
    "name = input()\n",
    "num = int(input())\n",
    "print(f'Группа №{num // 100}.')\n",
    "print(f'{num % 10}. {name}.')\n",
    "print(f'Шкафчик: {num}.')\n",
    "print(f'Кроватка: {num // 10 % 10}.')"
   ]
  },
  {
   "cell_type": "markdown",
   "id": "e114952c",
   "metadata": {},
   "source": [
    "#### K. Автоматизация игры\n",
    "Всё в том же детском саду ребята очень любят играть с цифрами.\n",
    "Одна из таких игр — перестановка цифр четырёхзначного числа.\n",
    "Напишите программу для робота-няни, которая из числа вида abcd составляет число badc.\n",
    "\n",
    "Формат ввода:\n",
    "Одно четырёхзначное число.\n",
    "\n",
    "Формат вывода:\n",
    "Одно четырёхзначное число — результат перестановки."
   ]
  },
  {
   "cell_type": "code",
   "execution_count": 7,
   "id": "97f5bd15",
   "metadata": {},
   "outputs": [
    {
     "name": "stdout",
     "output_type": "stream",
     "text": [
      "4587\n",
      "5478\n"
     ]
    }
   ],
   "source": [
    "n = int(input())\n",
    "a = str(n // 1000)\n",
    "b = str(n // 100 % 10)\n",
    "c = str(n // 10 % 10)\n",
    "d = str(n % 10)\n",
    "print(b + a + d + c)"
   ]
  },
  {
   "cell_type": "markdown",
   "id": "bf905568",
   "metadata": {},
   "source": [
    "#### L. Интересное сложение\n",
    "Один малыш из детского сада услышал от старшей сестры о некоем действии с числами — сложении.\n",
    "И как это часто бывает — он не до конца разобрался, как работает сложение. Например, не совсем понял, как произвести перенос разряда.\n",
    "Теперь он хочет научить сложению остальных ребят и просит написать программу, которая поможет ему в качестве наглядного материала.\n",
    "\n",
    "Формат ввода:\n",
    "В первой и второй строках записаны натуральные числа меньше 1000.\n",
    "\n",
    "Формат вывода:\n",
    "Одно число — результат сложения введённых чисел без учёта переносов."
   ]
  },
  {
   "cell_type": "code",
   "execution_count": 9,
   "id": "304e4092",
   "metadata": {},
   "outputs": [
    {
     "name": "stdout",
     "output_type": "stream",
     "text": [
      "123\n",
      "99\n",
      "112\n"
     ]
    }
   ],
   "source": [
    "a = int(input())\n",
    "b = int(input())\n",
    "third = (a % 10 + b % 10) % 10\n",
    "second = (a // 10 % 10 + b // 10 % 10) % 10\n",
    "if a // 100 != 0 and b // 100 != 0:\n",
    "    first = (a // 100 + b // 100) % 10\n",
    "elif a // 100 == 0:\n",
    "    first = b // 100\n",
    "else:\n",
    "    first = a // 100\n",
    "print(str(first) + str(second) + str(third))"
   ]
  },
  {
   "cell_type": "markdown",
   "id": "630c6bef",
   "metadata": {},
   "source": [
    "#### M. Дед Мороз и конфеты\n",
    "Настало самое главное событие в детском саду — новогодний утренник.\n",
    "Хорошо замаскированная робоняня в роли Деда Мороза решила раздать детям конфеты так, чтобы каждому досталось поровну. Напишите для робоняни алгоритм, который поможет распределить конфеты.\n",
    "\n",
    "Формат ввода:\n",
    "В первой строке указано количество детей на утреннике.\n",
    "Во второй строке — количество конфет в конфетном отсеке робоняни.\n",
    "\n",
    "Формат вывода:\n",
    "Сначала выведите количество конфет, которое выдано каждому ребенку, а затем количество конфет, что осталось в конфетном отсеке."
   ]
  },
  {
   "cell_type": "code",
   "execution_count": 10,
   "id": "cfb8d35d",
   "metadata": {},
   "outputs": [
    {
     "name": "stdout",
     "output_type": "stream",
     "text": [
      "3\n",
      "100\n",
      "33\n",
      "1\n"
     ]
    }
   ],
   "source": [
    "childs = int(input())\n",
    "sweets = int(input())\n",
    "print(sweets // childs, sweets % childs, sep='\\n')"
   ]
  },
  {
   "cell_type": "markdown",
   "id": "391b22ba",
   "metadata": {},
   "source": [
    "#### N. Шарики и ручки\n",
    "Иногда ребята в детском саду скучают, поэтому они постоянно придумывают себе не очень сложные, но веселые, по их мнению, игры.\n",
    "В группе есть ящик с шариками, количество которых детям заранее неизвестно, следующих цветов:\n",
    "\n",
    "красный;\n",
    "зеленый;\n",
    "синий.\n",
    "Игра заключается в том, что каждый ребенок подходит к ящику и, не глядя, вытаскивает один шарик, победителем считается тот, кто первым вытащит зелёный шарик.\n",
    "Как вы думаете, через какое максимальное количество ходов дети выяснят победителя игры?\n",
    "\n",
    "Формат ввода:\n",
    "Три натуральных числа, каждое на новой строке (количество красных, зеленых и синих шаров соответственно).\n",
    "\n",
    "Формат вывода:\n",
    "Одно число — максимальное количество ходов, которое потребуется для определения победителя."
   ]
  },
  {
   "cell_type": "code",
   "execution_count": 11,
   "id": "78b06b61",
   "metadata": {},
   "outputs": [
    {
     "name": "stdout",
     "output_type": "stream",
     "text": [
      "1\n",
      "2\n",
      "3\n",
      "5\n"
     ]
    }
   ],
   "source": [
    "red = int(input())\n",
    "green = int(input())\n",
    "blue = int(input())\n",
    "print(red + blue + 1)"
   ]
  },
  {
   "cell_type": "markdown",
   "id": "aefe4946",
   "metadata": {},
   "source": [
    "#### O. В ожидании доставки\n",
    "Сегодня в \n",
    "N часов \n",
    "M минут хозяин магазина заказал доставку нового товара. Оператор сказал, что продукты доставят через \n",
    "T минут.\n",
    "Сколько будет времени на электронных часах, когда привезут долгожданные продукты?\n",
    "\n",
    "Формат ввода\n",
    "В первой строке записано натуральное число \n",
    "N (\n",
    "0\n",
    "≤\n",
    "<\n",
    "24\n",
    "0≤N<24).\n",
    "Во второй строке записано натуральное число \n",
    "M (\n",
    "0\n",
    "≤\n",
    "M\n",
    "<\n",
    "60\n",
    "0≤M<60).\n",
    "В третьей строке записано натуральное число \n",
    "T (\n",
    "30\n",
    "≤\n",
    "<\n",
    "10^9\n",
    "30≤T<10^9\n",
    " ).\n",
    "\n",
    "Формат вывода:\n",
    "Одна строка, представляющая циферблат электронных часов."
   ]
  },
  {
   "cell_type": "code",
   "execution_count": 12,
   "id": "61d2339f",
   "metadata": {},
   "outputs": [
    {
     "name": "stdout",
     "output_type": "stream",
     "text": [
      "8\n",
      "0\n",
      "65\n",
      "09:05\n"
     ]
    }
   ],
   "source": [
    "n = int(input())\n",
    "m = int(input())\n",
    "t = int(input())\n",
    "hours = n + t // 60 + (m + t % 60) // 60 \n",
    "hours = hours - 24 * (hours // 24)\n",
    "minutes = (m + t % 60) % 60\n",
    "if hours < 10:\n",
    "    hours = '0' + str(hours)\n",
    "if minutes < 10:\n",
    "    minutes = '0' + str(minutes)\n",
    "print(f'{hours}:{minutes}')"
   ]
  },
  {
   "cell_type": "markdown",
   "id": "433e2efe",
   "metadata": {},
   "source": [
    "#### P. Доставка\n",
    "Продуктовый склад и магазин находятся на одной дороге города Н.\n",
    "Склад находится на отметке \n",
    "A км, а магазин — \n",
    "B км. Средняя скорость автомобиля, доставляющего товары, \n",
    "C км/ч.\n",
    "За какое время продукты попадают со склада в магазин?\n",
    "\n",
    "Формат ввода:\n",
    "Три натуральных числа \n",
    "A, \n",
    "B и \n",
    "C, каждое на отдельной строке.\n",
    "\n",
    "Формат вывода:\n",
    "Одно рациональное число с точностью до сотых."
   ]
  },
  {
   "cell_type": "code",
   "execution_count": 13,
   "id": "8da0c986",
   "metadata": {},
   "outputs": [
    {
     "name": "stdout",
     "output_type": "stream",
     "text": [
      "10\n",
      "32\n",
      "5\n",
      "4.40\n"
     ]
    }
   ],
   "source": [
    "a, b, c = int(input()), int(input()), int(input())\n",
    "print(f'{(b - a) / c:.2f}')"
   ]
  },
  {
   "cell_type": "markdown",
   "id": "2a944a46",
   "metadata": {},
   "source": [
    "#### Q. Ошибка кассового аппарата\n",
    "Мы уже помогали магазину с расчётами и формированием чеков, но сегодня кассовый аппарат вместо привычных продавцу десятичных чисел начал выдавать двоичные.\n",
    "Техподдержка приедет только завтра, а магазин должен продолжать работать. Надо помочь.\n",
    "\n",
    "Формат ввода:\n",
    "В первой строке записано десятичное число — общая сумма купленных в магазине товаров на данный момент.\n",
    "Во второй строке указано двоичное число — сумма за последнюю покупку.\n",
    "\n",
    "Формат вывода:\n",
    "Одно десятичное число — сумма прибыли за день с учётом последней покупки."
   ]
  },
  {
   "cell_type": "code",
   "execution_count": 14,
   "id": "1202abfa",
   "metadata": {},
   "outputs": [
    {
     "name": "stdout",
     "output_type": "stream",
     "text": [
      "123\n",
      "1101\n",
      "136\n"
     ]
    }
   ],
   "source": [
    "amount = int(input())\n",
    "num = int(input(), 2)\n",
    "print(amount + num)"
   ]
  },
  {
   "cell_type": "markdown",
   "id": "eb580d00",
   "metadata": {},
   "source": [
    "#### R. Сдача 10\n",
    "Кстати, несмотря на ошибку аппарата, сдачу тоже нужно отдавать.\n",
    "\n",
    "Формат ввода:\n",
    "Цена покупки — двоичное число, выданное кассовым аппаратом.\n",
    "Номинал купюры пользователя — десятичное число (\n",
    "≥100).\n",
    "\n",
    "Формат вывода:\n",
    "Одно десятичное число — сдача, которую требуется отдать пользователю.\n",
    "\n",
    "Примечание\n",
    "Все числа, используемые в задаче, целые."
   ]
  },
  {
   "cell_type": "code",
   "execution_count": 15,
   "id": "58e1c082",
   "metadata": {},
   "outputs": [
    {
     "name": "stdout",
     "output_type": "stream",
     "text": [
      "1001001\n",
      "100\n",
      "27\n"
     ]
    }
   ],
   "source": [
    "a = int(input(), 2)\n",
    "count = int(input())\n",
    "print(count - a)"
   ]
  },
  {
   "attachments": {
    "image.png": {
     "image/png": "[encoded data removed]"
    }
   },
   "cell_type": "markdown",
   "id": "d40755d0",
   "metadata": {},
   "source": [
    "#### S. Украшение чека\n",
    "Давайте приведём в порядок чек, который печатали ранее.\n",
    "Все строки должны быть длиной в 35 символов.\n",
    "\n",
    "Формат ввода:\n",
    "Название товара;\n",
    "цена товара;\n",
    "вес товара;\n",
    "количество денег у пользователя.  \n",
    "Формат вывода:\n",
    "Красивый чек в формате:![image.png](attachment:image.png)"
   ]
  },
  {
   "cell_type": "code",
   "execution_count": 16,
   "id": "cb5bb2a4",
   "metadata": {},
   "outputs": [
    {
     "name": "stdout",
     "output_type": "stream",
     "text": [
      "черешня\n",
      "2\n",
      "3\n",
      "10\n",
      "================Чек================\n",
      "Товар:                      черешня\n",
      "Цена:                 3кг * 2руб/кг\n",
      "Итого:                         6руб\n",
      "Внесено:                      10руб\n",
      "Сдача:                         4руб\n",
      "===================================\n"
     ]
    }
   ],
   "source": [
    "goods = input()\n",
    "price = int(input())\n",
    "weight = int(input())\n",
    "count = int(input())\n",
    "print(f'{\"=\" * 16}Чек{\"=\" * 16}')\n",
    "print(f'Товар: {(28-len(goods)) * \" \"}{goods}')\n",
    "print(f'Цена: {(18 - (len(str(weight)) + len(str(price)))) * \" \"}{weight}кг * {price}руб/кг')\n",
    "print(f'Итого: {(25 - len(str(price * weight))) * \" \"}{price * weight}руб')\n",
    "print(f'Внесено: {(23 - len(str(count))) * \" \"}{count}руб')\n",
    "print(f'Сдача: {(25 - len(str(count - price * weight))) * \" \"}{count - price * weight}руб')\n",
    "print('=' * 35)"
   ]
  },
  {
   "cell_type": "markdown",
   "id": "77bc9315",
   "metadata": {},
   "source": [
    "#### T. Мухи отдельно, котлеты отдельно\n",
    "Вернёмся в магазин, хозяин которого уже привык полагаться на всемогущую автоматизацию.\n",
    "\n",
    "Помогите ему разобраться с одной проблемой. Далее его история: «Пару дней назад я купил две партии котлет и по случайности высыпал их на один прилавок. Общий вес котлет составил \n",
    "�\n",
    "N килограмм, а ценник — \n",
    "M рублей за килограмм.\n",
    "Сегодня я обнаружил, что накладные на эти виды котлет потерялись, но я помню, что первый вид котлет стоил K1 рублей за килограмм, а второй — K2.\n",
    "\n",
    "Помогите мне вспомнить вес каждой партии котлет, чтобы поставить их на учёт.\n",
    "\n",
    "Формат ввода:\n",
    "В первой строке записано натуральное число N  \n",
    "Во второй строке — натуральное число M  \n",
    "В третьей строке — натуральное число K1  \n",
    "В четвёртой строке — натуральное число K2  \n",
    " \n",
    "Причём доподлинно известно, что второй вид котлет стоит меньше, чем первый.\n",
    "\n",
    "Формат вывода:\n",
    "Два натуральных числа, записанных через пробел — вес обеих партий котлет."
   ]
  },
  {
   "cell_type": "code",
   "execution_count": 17,
   "id": "54c77211",
   "metadata": {},
   "outputs": [
    {
     "name": "stdout",
     "output_type": "stream",
     "text": [
      "32\n",
      "285\n",
      "300\n",
      "240\n",
      "24 8\n"
     ]
    }
   ],
   "source": [
    "n = int(input())\n",
    "m = int(input())\n",
    "k1 = int(input())\n",
    "k2 = int(input())\n",
    "\n",
    "count = n * m\n",
    "\n",
    "for i in range(1, n + 1):\n",
    "    if k1 * i + k2 * (n - i) == count:\n",
    "        print(i, n - i)\n",
    "        break"
   ]
  }
 ],
 "metadata": {
  "kernelspec": {
   "display_name": "Python 3 (ipykernel)",
   "language": "python",
   "name": "python3"
  },
  "language_info": {
   "codemirror_mode": {
    "name": "ipython",
    "version": 3
   },
   "file_extension": ".py",
   "mimetype": "text/x-python",
   "name": "python",
   "nbconvert_exporter": "python",
   "pygments_lexer": "ipython3",
   "version": "3.9.5"
  }
 },
 "nbformat": 4,
 "nbformat_minor": 5
}
