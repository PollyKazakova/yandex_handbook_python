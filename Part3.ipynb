{
 "cells": [
  {
   "cell_type": "markdown",
   "id": "322c03e6",
   "metadata": {},
   "source": [
    "### Циклы"
   ]
  },
  {
   "cell_type": "markdown",
   "id": "7b9ec0f8",
   "metadata": {},
   "source": [
    "#### A. Раз, два, три! Ёлочка, гори!\n",
    "В детском саду проводят новогодний утренник. Со знанием чисел и их порядком у детей пока есть небольшие проблемы, но цифру три знают все без исключения.\n",
    "\n",
    "Напишите программу, которая зажигает Ёлочку, когда все дети прокричат «Три!»\n",
    "\n",
    "Формат ввода:\n",
    "Вводятся крики детей.\n",
    "\n",
    "Формат вывода:\n",
    "Выводить «Режим ожидания...», пока дети не прокричат «Три!».\n",
    "В конце вывести «Ёлочка, гори!»"
   ]
  },
  {
   "cell_type": "code",
   "execution_count": 1,
   "id": "168c2150",
   "metadata": {},
   "outputs": [
    {
     "name": "stdout",
     "output_type": "stream",
     "text": [
      "Раз!\n",
      "Режим ожидания...\n",
      "Два!\n",
      "Режим ожидания...\n",
      "Три!\n",
      "Ёлочка, гори!\n"
     ]
    }
   ],
   "source": [
    "while (n := input()) != 'Три!':\n",
    "    print('Режим ожидания...')\n",
    "print('Ёлочка, гори!')"
   ]
  },
  {
   "cell_type": "markdown",
   "id": "d594bba6",
   "metadata": {},
   "source": [
    "#### B. Зайка — 3\n",
    "В задачнике ко второй лекции мы помогали детям искать зайца.\n",
    "На этот раз мы будем искать и считать сразу нескольких зайчат.\n",
    "\n",
    "Формат ввода:\n",
    "Вводятся строки, описывающие придорожную местность.\n",
    "В конце поездки вводится «Приехали!»\n",
    "\n",
    "Формат вывода:\n",
    "Количество строк, в которых есть зайка."
   ]
  },
  {
   "cell_type": "code",
   "execution_count": 2,
   "id": "8ae7bf80",
   "metadata": {},
   "outputs": [
    {
     "name": "stdout",
     "output_type": "stream",
     "text": [
      "березка елочка зайка волк березка\n",
      "сосна сосна сосна елочка грибочки медведь\n",
      "сосна сосна сосна белочка сосна белочка\n",
      "Приехали!\n",
      "1\n"
     ]
    }
   ],
   "source": [
    "counter = 0\n",
    "while (n := input()) != 'Приехали!':\n",
    "    if 'зайка' in n:\n",
    "        counter += 1\n",
    "print(counter)"
   ]
  },
  {
   "cell_type": "markdown",
   "id": "f1861265",
   "metadata": {},
   "source": [
    "#### C. Считалочка\n",
    "Ребята в детском саду учат числа, и мы можем им в этом помочь.\n",
    "Ребята дают нам два числа — начало и конец последовательности чисел.\n",
    "Наша задача вывести все числа от начала до конца, заполнив промежуток между ними.\n",
    "\n",
    "Формат ввода:\n",
    "Два числа в порядке возрастания, каждое с новой строки.\n",
    "\n",
    "Формат вывода:\n",
    "Все числа от начала до конца (включительно), записанные через пробел."
   ]
  },
  {
   "cell_type": "code",
   "execution_count": 3,
   "id": "1bb1f6e8",
   "metadata": {},
   "outputs": [
    {
     "name": "stdout",
     "output_type": "stream",
     "text": [
      "1\n",
      "10\n",
      "1 2 3 4 5 6 7 8 9 10 "
     ]
    }
   ],
   "source": [
    "a, b = int(input()), int(input())\n",
    "for i in range(a, b + 1):\n",
    "    print(i, end=' ')"
   ]
  },
  {
   "cell_type": "markdown",
   "id": "7bacf3f0",
   "metadata": {},
   "source": [
    "#### D. Считалочка 2.0\n",
    "Дети продолжают запоминать цифры, а мы им помогать.\n",
    "Нам вновь называют начало и конец последовательности чисел, а мы выводим их и числа между.\n",
    "\n",
    "Формат ввода:\n",
    "Два числа, каждое с новой строки.\n",
    "\n",
    "Формат вывода:\n",
    "Все числа от начала до конца (включительно), записанные через пробел."
   ]
  },
  {
   "cell_type": "code",
   "execution_count": 4,
   "id": "90c2f1c8",
   "metadata": {},
   "outputs": [
    {
     "name": "stdout",
     "output_type": "stream",
     "text": [
      "3\n",
      "-3\n",
      "3 2 1 0 -1 -2 -3 "
     ]
    }
   ],
   "source": [
    "a, b = int(input()), int(input())\n",
    "if a < b:\n",
    "    while a != b + 1:\n",
    "        print(a, end=' ')\n",
    "        a += 1\n",
    "else:\n",
    "    while a != b - 1:\n",
    "        print(a, end=' ')\n",
    "        a -= 1"
   ]
  },
  {
   "cell_type": "markdown",
   "id": "c5ef7f68",
   "metadata": {},
   "source": [
    "#### E. Внимание! Акция!\n",
    "В продуктовом магазине объявили акцию: «На все товары с ценой не менее 500 тугриков предоставляется скидка 10%».\n",
    "Нас попросили разработать программное обеспечение кассового автомата, которое будет считать итоговую сумму покупки с учётом скидки.\n",
    "\n",
    "Формат ввода:\n",
    "Вводится некоторое количество рациональных чисел — стоимость товаров.\n",
    "Список завершается значением 0.\n",
    "\n",
    "Формат вывода:\n",
    "Требуется вывести сумму всех товаров с учётом объявленной акции."
   ]
  },
  {
   "cell_type": "code",
   "execution_count": 5,
   "id": "b1813a31",
   "metadata": {},
   "outputs": [
    {
     "name": "stdout",
     "output_type": "stream",
     "text": [
      "512\n",
      "499\n",
      "342.50\n",
      "0\n",
      "1302.3\n"
     ]
    }
   ],
   "source": [
    "count = 0\n",
    "while (price := float(input())) != 0:\n",
    "    if price >= 500:\n",
    "        count += 0.9 * price\n",
    "    else:\n",
    "        count += price\n",
    "print(count)"
   ]
  },
  {
   "cell_type": "markdown",
   "id": "b0f5494c",
   "metadata": {},
   "source": [
    "#### F. НОД\n",
    "В одном из местных НИИ часто требуется находить наибольший общий делитель (НОД) двух чисел.\n",
    "Вам уже доверяют, как одному из лучших «автоматизаторов» в округе, так что руководство НИИ решило заказать ПО у вас.\n",
    "\n",
    "Формат ввода:\n",
    "Вводится два натуральных числа, каждое на своей строке.\n",
    "\n",
    "Формат вывода:\n",
    "Требуется вывести одно натуральное число — НОД двух данных чисел.\n",
    "\n",
    "Примечание:\n",
    "Самый распространенный способ поиска НОД — алгоритм Евклида."
   ]
  },
  {
   "cell_type": "code",
   "execution_count": 7,
   "id": "3b605080",
   "metadata": {},
   "outputs": [
    {
     "name": "stdout",
     "output_type": "stream",
     "text": [
      "12\n",
      "42\n",
      "6\n"
     ]
    }
   ],
   "source": [
    "a = int(input())\n",
    "b = int(input())\n",
    " \n",
    "while a != 0 and b != 0:\n",
    "    if a > b:\n",
    "        a = a % b\n",
    "    else:\n",
    "        b = b % a\n",
    "print(a + b)"
   ]
  },
  {
   "cell_type": "markdown",
   "id": "d6ca0f6c",
   "metadata": {},
   "source": [
    "#### G. НОК\n",
    "Спустя время НИИ потребовалось находить наименьшее общее кратное (НОК) двух чисел. К нам вновь обратились за помощью.\n",
    "\n",
    "Формат ввода:\n",
    "Вводится два натуральных числа, каждое на своей строке.\n",
    "\n",
    "Формат вывода:\n",
    "Требуется вывести одно натуральное число — НОК двух данных чисел."
   ]
  },
  {
   "cell_type": "code",
   "execution_count": 8,
   "id": "fc4f61c6",
   "metadata": {},
   "outputs": [
    {
     "name": "stdout",
     "output_type": "stream",
     "text": [
      "12\n",
      "42\n",
      "84\n"
     ]
    }
   ],
   "source": [
    "a, b = int(input()), int(input())\n",
    "if a > b:\n",
    "    greater = a\n",
    "else:\n",
    "    greater = b\n",
    "while True:\n",
    "    if greater % a == 0 and greater % b == 0:\n",
    "        print(greater)\n",
    "        break\n",
    "    greater += 1"
   ]
  },
  {
   "cell_type": "markdown",
   "id": "727ee5f1",
   "metadata": {},
   "source": [
    "#### H. Излишняя автоматизация 2.0\n",
    "А что будет, если вновь, как в первой главе, объединить два принципа — повторение и автоматизацию?\n",
    "\n",
    "Формат ввода:\n",
    "В первой строке записана весьма полезная информация. Во второй натуральное число N — количество раз, которое её нужно повторить, чтобы она закрепилась.\n",
    "\n",
    "Формат вывода: N раз повторенная весьма полезная информация."
   ]
  },
  {
   "cell_type": "code",
   "execution_count": 9,
   "id": "731f635a",
   "metadata": {},
   "outputs": [
    {
     "name": "stdout",
     "output_type": "stream",
     "text": [
      "2 + 2 = 4\n",
      "3\n",
      "2 + 2 = 4\n",
      "2 + 2 = 4\n",
      "2 + 2 = 4\n"
     ]
    }
   ],
   "source": [
    "string = input()\n",
    "num = int(input())\n",
    "for _ in range(num):\n",
    "    print(string)"
   ]
  },
  {
   "cell_type": "markdown",
   "id": "e7d69307",
   "metadata": {},
   "source": [
    "#### I. Факториал\n",
    "Учёным срочно нужно ПО, которое находит факториал числа.\n",
    "\n",
    "Формат ввода:\n",
    "Вводится одно неотрицательное число.\n",
    "\n",
    "Формат вывода:\n",
    "Требуется вывести одно натуральное число — факториал заданного числа.\n",
    "\n",
    "Примечания:\n",
    "Факториал нуля принят равным 1."
   ]
  },
  {
   "cell_type": "code",
   "execution_count": 10,
   "id": "2f98c6ce",
   "metadata": {},
   "outputs": [
    {
     "name": "stdout",
     "output_type": "stream",
     "text": [
      "5\n",
      "120\n"
     ]
    }
   ],
   "source": [
    "num = int(input())\n",
    "factorial = 1\n",
    "if num == 0:\n",
    "    print(1)\n",
    "else:\n",
    "    for i in range(1, num + 1):\n",
    "        factorial *= i\n",
    "    print(factorial)"
   ]
  },
  {
   "cell_type": "markdown",
   "id": "bcb1809a",
   "metadata": {},
   "source": [
    "#### J. Маршрут построен\n",
    "Навигация была важна во все времена.\n",
    "Нам достался архив маршрутов движения, но их оказалось так много, что без автоматизации мы с ними не справимся во век. Каждый маршрут представляет собой последовательность шагов в одном из четырех направлений:\n",
    "\n",
    "СЕВЕР;  \n",
    "ВОСТОК;  \n",
    "ЮГ;  \n",
    "ЗАПАД.  \n",
    "Напишите программу, чтобы по заданному маршруту она определяла, в какой именно точке мы окажемся.\n",
    "Для простоты будем считать, что в начале маршрута мы находимся в точке (0; 0).\n",
    "\n",
    "Формат ввода:\n",
    "Вводятся инструкции маршрута в виде:  \n",
    "<направление>  \n",
    "<количество шагов>  \n",
    "Ввод завершается строкой СТОП.\n",
    "\n",
    "Формат вывода:\n",
    "Два целых числа — координаты конечной точки маршрута."
   ]
  },
  {
   "cell_type": "code",
   "execution_count": 12,
   "id": "823068a3",
   "metadata": {},
   "outputs": [
    {
     "name": "stdout",
     "output_type": "stream",
     "text": [
      "СЕВЕР\n",
      "2\n",
      "ВОСТОК\n",
      "2\n",
      "СТОП\n",
      "2\n",
      "2\n"
     ]
    }
   ],
   "source": [
    "x = 0\n",
    "y = 0\n",
    "while (destination := input()) != \"СТОП\":\n",
    "    step = int(input())\n",
    "    if destination == 'СЕВЕР':\n",
    "        x += step\n",
    "    elif destination == 'ЮГ':\n",
    "        x -= step\n",
    "    elif destination == 'ВОСТОК':\n",
    "        y += step\n",
    "    else:\n",
    "        y -= step\n",
    "print(x, y, sep='\\n')"
   ]
  },
  {
   "cell_type": "markdown",
   "id": "6cfe4e5c",
   "metadata": {},
   "source": [
    "#### K. Цифровая сумма\n",
    "Иногда требуется манипулировать с цифрами чисел.\n",
    "Одно из самых простых действий, которое можно совершить — найти сумму цифр числа. Напишите программу, чтобы выполнить это действие.\n",
    "\n",
    "Формат ввода:\n",
    "Вводится одно натуральное число.\n",
    "\n",
    "Формат вывода:\n",
    "Требуется вывести одно натуральное число — сумму цифр исходного."
   ]
  },
  {
   "cell_type": "code",
   "execution_count": 13,
   "id": "950f6bdf",
   "metadata": {},
   "outputs": [
    {
     "name": "stdout",
     "output_type": "stream",
     "text": [
      "12345\n",
      "15\n"
     ]
    }
   ],
   "source": [
    "num = input()\n",
    "amount = 0\n",
    "for i in num:\n",
    "    amount += int(i)\n",
    "print(amount)"
   ]
  },
  {
   "cell_type": "markdown",
   "id": "57e16b4d",
   "metadata": {},
   "source": [
    "#### L. Сильная цифра\n",
    "Давайте попробуем выполнить ещё одно простое действие — найдём максимальную цифру числа.\n",
    "\n",
    "Формат ввода:\n",
    "Вводится одно натуральное число.\n",
    "\n",
    "Формат вывода:\n",
    "Требуется вывести одно натуральное число — максимальную цифру исходного."
   ]
  },
  {
   "cell_type": "code",
   "execution_count": 14,
   "id": "16a69d6d",
   "metadata": {},
   "outputs": [
    {
     "name": "stdout",
     "output_type": "stream",
     "text": [
      "12345\n",
      "5\n"
     ]
    }
   ],
   "source": [
    "num = input()\n",
    "max_num = 0\n",
    "for i in num:\n",
    "    if int(i) > max_num:\n",
    "        max_num = int(i)\n",
    "print(max_num)"
   ]
  },
  {
   "cell_type": "markdown",
   "id": "cc713890",
   "metadata": {},
   "source": [
    "#### M. Первому игроку приготовиться 2.0\n",
    "Во многих играх порядок ходов определяется броском кубика или монетки, а в нашей первым ходит тот, чье имя лексикографически меньше. Определите, кто из игроков будет ходить первым.\n",
    "\n",
    "Формат ввода:\n",
    "В первой строке записано одно натуральное число N — количество игроков.\n",
    "В каждой из последующих N строк указано одно имя игрока.\n",
    "\n",
    "Формат вывода:\n",
    "Имя игрока, который будет ходить первым."
   ]
  },
  {
   "cell_type": "code",
   "execution_count": 15,
   "id": "ce3dd46f",
   "metadata": {},
   "outputs": [
    {
     "name": "stdout",
     "output_type": "stream",
     "text": [
      "3\n",
      "Вова\n",
      "Аня\n",
      "Боря\n",
      "Аня\n"
     ]
    }
   ],
   "source": [
    "n = int(input())\n",
    "name_first = input()\n",
    "for i in range(n - 1):\n",
    "    name = input()\n",
    "    if name < name_first:\n",
    "        name_first = name\n",
    "print(name_first)"
   ]
  },
  {
   "cell_type": "markdown",
   "id": "e6578a7c",
   "metadata": {},
   "source": [
    "#### N. Простая задача\n",
    "Один из самых интересных видов чисел в математике — простые числа. Их объединяет то, что делятся они лишь на 1 и само себя. До сих пор их изучают учёные по всему миру. Также они применяются в вычислительной технике: с их помощью можно писать алгоритмы, чтобы шифровать данные. Давайте напишем программу, чтобы определять — простое перед нами число или нет.\n",
    "\n",
    "Формат ввода:\n",
    "Вводится одно натуральное число.\n",
    "\n",
    "Формат вывода:\n",
    "Требуется вывести сообщение YES если число простое, иначе — NO.\n",
    "\n",
    "Примечание:\n",
    "Простым называется число, которое имеет ровно два делителя.\n"
   ]
  },
  {
   "cell_type": "code",
   "execution_count": 17,
   "id": "0c04eee2",
   "metadata": {},
   "outputs": [
    {
     "name": "stdout",
     "output_type": "stream",
     "text": [
      "67\n",
      "YES\n"
     ]
    }
   ],
   "source": [
    "value = abs(int(input()))\n",
    "if value == 1:\n",
    "    print('NO')\n",
    "for i in range(2, int(value**0.5) + 1):\n",
    "    if value % i == 0:\n",
    "        print('NO')\n",
    "print('YES')"
   ]
  },
  {
   "cell_type": "markdown",
   "id": "b0be473c",
   "metadata": {},
   "source": [
    "#### O. Зайка - 4\n",
    "Давайте вновь поиграем с детьми и поможем им найти заек.\n",
    "\n",
    "Формат ввода:\n",
    "В первой строке записано натуральное число N — количество выделенных придорожных местностей. В каждой из \n",
    "N последующих строках — описание придорожной местности.\n",
    "\n",
    "Формат вывода:\n",
    "Количество строк, в которых есть зайка."
   ]
  },
  {
   "cell_type": "code",
   "execution_count": 18,
   "id": "fc505cf8",
   "metadata": {},
   "outputs": [
    {
     "name": "stdout",
     "output_type": "stream",
     "text": [
      "3\n",
      "березка елочка зайка волк березка\n",
      "сосна сосна сосна елочка грибочки медведь\n",
      "сосна сосна сосна белочка сосна белочка\n",
      "1\n"
     ]
    }
   ],
   "source": [
    "n = int(input())\n",
    "counter = 0\n",
    "while n > 0:\n",
    "    if 'зайка' in input():\n",
    "        counter += 1\n",
    "    n -= 1\n",
    "print(counter)"
   ]
  },
  {
   "cell_type": "markdown",
   "id": "919a360d",
   "metadata": {},
   "source": [
    "#### P. А роза упала на лапу Азора 2.0\n",
    "Вспомним о палиндромах, которые в обоих направлениях читаются одинаково. Напишите программу, которая проверяет, является ли число палиндромом.\n",
    "\n",
    "Формат ввода:\n",
    "Одно натуральное число.\n",
    "\n",
    "Формат вывода:\n",
    "YES — если число является палиндромом, иначе — NO."
   ]
  },
  {
   "cell_type": "code",
   "execution_count": 19,
   "id": "273304b1",
   "metadata": {},
   "outputs": [
    {
     "name": "stdout",
     "output_type": "stream",
     "text": [
      "1234\n",
      "NO\n"
     ]
    }
   ],
   "source": [
    "n = input()\n",
    "if n == n[::-1]:\n",
    "    print('YES')\n",
    "else:\n",
    "    print('NO')"
   ]
  },
  {
   "cell_type": "markdown",
   "id": "5b4fe30c",
   "metadata": {},
   "source": [
    "#### Q. Чётная чистота\n",
    "Мы уже достаточно знатоки, чтобы очистить число от определённых цифр, поэтому давайте напишем программу, которая уберёт все чётные цифры из числа.\n",
    "\n",
    "Формат ввода:\n",
    "Одно натуральное число.\n",
    "\n",
    "Формат вывода:\n",
    "Одно натуральное число — результат очистки."
   ]
  },
  {
   "cell_type": "code",
   "execution_count": 20,
   "id": "3b7631cf",
   "metadata": {},
   "outputs": [
    {
     "name": "stdout",
     "output_type": "stream",
     "text": [
      "123454321\n",
      "13531\n"
     ]
    }
   ],
   "source": [
    "num = input()\n",
    "res = ''\n",
    "for i in num:\n",
    "    if int(i) % 2 != 0:\n",
    "        res += i\n",
    "print(res)"
   ]
  },
  {
   "cell_type": "markdown",
   "id": "77126c67",
   "metadata": {},
   "source": [
    "#### R. Простая задача 2.0\n",
    "В банке решили переписать программу для шифрования данных и попросили, чтобы вы взяли на себя часть данной задачи. Напишите программу для разложения числа на простые множители. Только внимательно, ведь работать придётся вновь с простыми числами.\n",
    "\n",
    "Формат ввода:\n",
    "Вводится одно натуральное число.\n",
    "\n",
    "Формат вывода:\n",
    "Требуется составить математическое выражение — произведение простых неубывающих чисел, которое в результате даёт исходное."
   ]
  },
  {
   "cell_type": "code",
   "execution_count": 21,
   "id": "d835c6c9",
   "metadata": {},
   "outputs": [
    {
     "name": "stdout",
     "output_type": "stream",
     "text": [
      "120\n",
      "2 * 2 * 2 * 3 * 5\n"
     ]
    }
   ],
   "source": [
    "num = int(input())\n",
    "list_simple = []\n",
    "simple = 2\n",
    "while num > 1:\n",
    "    if num % simple == 0:\n",
    "        list_simple.append(simple)\n",
    "        num = num / simple\n",
    "    else:\n",
    "        simple += 1\n",
    "print(*list_simple, sep=' * ')"
   ]
  },
  {
   "cell_type": "markdown",
   "id": "23713c44",
   "metadata": {},
   "source": [
    "#### S. Игра в «Угадайку»\n",
    "Давайте сымитируем игру «Угадайка» между двумя людьми. Для этого нужно написать программу, которая отгадывает загаданное целое число от 1 до 1000 включительно.\n",
    "Пользователь (или тестирующая система) загадывает число и не сообщает его вашей программе.\n",
    "Угадать число нужно не более, чем за 10 попыток.\n",
    "\n",
    "На каждую попытку пользователь отвечает одной из фраз:\n",
    "\n",
    "Больше;  \n",
    "Меньше;  \n",
    "Угадал!  \n",
    "Данная задача проверяется интерактивно.  \n",
    "Другими словами, пока вы не выведите своё число, система не предоставит вам данных."
   ]
  },
  {
   "cell_type": "code",
   "execution_count": null,
   "id": "092643ee",
   "metadata": {},
   "outputs": [],
   "source": [
    "min_element = 1\n",
    "max_element = 1000\n",
    "mid_element = (min_element + max_element) // 2\n",
    "print(mid_element)\n",
    "answer = input()\n",
    "\n",
    "while 'Угадал!' not in answer:\n",
    "    if 'Меньше' in answer:\n",
    "        max_element = mid_element - 1\n",
    "    elif 'Больше' in answer:\n",
    "        min_element = mid_element + 1\n",
    "    else:\n",
    "        pass\n",
    "    mid_element = (min_element + max_element) // 2\n",
    "    print(mid_element)\n",
    "    answer = input()"
   ]
  },
  {
   "attachments": {
    "image.png": {
     "image/png": "[encoded data removed]"
    }
   },
   "cell_type": "markdown",
   "id": "1e75ca7d",
   "metadata": {},
   "source": [
    "#### T. Хайпанём немножечко!\n",
    "Блокчейн (blockchain) переводится как «цепочка блоков». Это способ хранения данных, защищённый от подделки. Он лежит, например, в основе криптовалюты биткоин.\n",
    "\n",
    "Блокчейн — это действительно последовательность блоков, а в каждом блоке находится некоторая полезная информация. Так последовательность биткоина — список транзакций за определённый период времени: кто, кому, когда и сколько денег передал. Этот список снабжён случайным числом и некоторыми служебными данными, в том числе хэшем — числом, которое по определённой формуле зависит от остальной части блока и хэша предыдущего блока.\n",
    "\n",
    "Хэш должен быть меньше определённого числа. При этом формула, по которой вычисляется хэш, устроена так, что невозможно получить достаточно маленький хэш иначе, чем перебирая различные значения случайного числа. Поэтому если злоумышленник решит подделать блокчейн — например, вставить в его середину блок с записью о том, что все люди передали ему все свои деньги, — то столкнётся с проблемой. Ему придётся подобрать новое случайное число не только в поддельном блоке, но и во всех последующих, ведь хэш каждого следующего блока зависит от хэша предыдущего.\n",
    "\n",
    "Это требует невероятно больших вычислительных мощностей, поэтому блокчейн в целом защищён от подобных атак.\n",
    "\n",
    "Напишите программу, которая проводит проверку правильности хэшей в модельном блокчейне с простой хэш-функцией.\n",
    "![image.png](attachment:image.png)\n",
    "\n",
    "Формат ввода:\n",
    "На первой строке вводится натуральное число N — количество блоков. Далее следуют N чисел b n, каждое на отдельной строке.\n",
    "\n",
    "Формат вывода:\n",
    "Следует вывести номер первого блока, у которого неправильный хэш (не меньше 100 или не совпадает с вычисленным по указанной в условии формуле), или -1, если все хэши в блокчейне правильные. Нумерация блоков идёт с нуля, так что они имеют номера от 0 до N-1."
   ]
  },
  {
   "cell_type": "code",
   "execution_count": 4,
   "id": "52321348",
   "metadata": {},
   "outputs": [
    {
     "name": "stdout",
     "output_type": "stream",
     "text": [
      "5\n",
      "6122802\n",
      "14406496\n",
      "15230209\n",
      "2541121\n",
      "1758741\n",
      "-1\n"
     ]
    }
   ],
   "source": [
    "N = int(input())\n",
    "k = 0\n",
    "prev_h = 0\n",
    "for i in range(N):\n",
    "    b = int(input())\n",
    "    m = b // (256 ** 2)\n",
    "    r = (b // 256) % 256\n",
    "    h = b % 256\n",
    "    if (h >= 100 or h != (37 * (m + r + prev_h)) % 256) and k == 0:\n",
    "        k = i\n",
    "    prev_h = h\n",
    "if k != 0:\n",
    "    print(k)\n",
    "else:\n",
    "    print(-1)"
   ]
  }
 ],
 "metadata": {
  "kernelspec": {
   "display_name": "Python 3 (ipykernel)",
   "language": "python",
   "name": "python3"
  },
  "language_info": {
   "codemirror_mode": {
    "name": "ipython",
    "version": 3
   },
   "file_extension": ".py",
   "mimetype": "text/x-python",
   "name": "python",
   "nbconvert_exporter": "python",
   "pygments_lexer": "ipython3",
   "version": "3.9.5"
  }
 },
 "nbformat": 4,
 "nbformat_minor": 5
}
